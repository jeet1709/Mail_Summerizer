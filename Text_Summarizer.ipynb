{
  "nbformat": 4,
  "nbformat_minor": 0,
  "metadata": {
    "colab": {
      "name": "Text_Summarizer.ipynb",
      "provenance": [],
      "collapsed_sections": []
    },
    "kernelspec": {
      "name": "python3",
      "display_name": "Python 3"
    },
    "language_info": {
      "name": "python"
    }
  },
  "cells": [
    {
      "cell_type": "code",
      "metadata": {
        "id": "I0HkB0zyTBJ_"
      },
      "source": [
        "text=\"\"\"\n",
        "There are broadly two types of extractive summarization tasks depending on what the summarization program focuses on. The first is generic summarization, which focuses on obtaining a generic summary or abstract of the collection (whether documents, or sets of images, or videos, news stories etc.). The second is query relevant summarization, sometimes called query-based summarization, which summarizes objects specific to a query. Summarization systems are able to create both query relevant text summaries and generic machine-generated summaries depending on what the user needs.\n",
        "\n",
        "An example of a summarization problem is document summarization, which attempts to automatically produce an abstract from a given document. Sometimes one might be interested in generating a summary from a single source document, while others can use multiple source documents (for example, a cluster of articles on the same topic). This problem is called multi-document summarization. A related application is summarizing news articles. Imagine a system, which automatically pulls together news articles on a given topic (from the web), and concisely represents the latest news as a summary.\n",
        "\n",
        "Image collection summarization is another application example of automatic summarization. It consists in selecting a representative set of images from a larger set of images.[5] A summary in this context is useful to show the most representative images of results in an image collection exploration system. Video summarization is a related domain, where the system automatically creates a trailer of a long video. This also has applications in consumer or personal videos, where one might want to skip the boring or repetitive actions. Similarly, in surveillance videos, one would want to extract important and suspicious activity, while ignoring all the boring and redundant frames captured.\n",
        "\n",
        "At a very high level, summarization algorithms try to find subsets of objects (like set of sentences, or a set of images), which cover information of the entire set. This is also called the core-set. These algorithms model notions like diversity, coverage, information and representativeness of the summary. Query based summarization techniques, additionally model for relevance of the summary with the query. Some techniques and algorithms which naturally model summarization problems are TextRank and PageRank, Submodular set function, Determinantal point process, maximal marginal relevance (MMR) etc.\n",
        "\"\"\""
      ],
      "execution_count": null,
      "outputs": []
    },
    {
      "cell_type": "code",
      "metadata": {
        "id": "bCLdTcy2H-o6"
      },
      "source": [
        "import spacy\n",
        "from spacy.lang.en.stop_words import STOP_WORDS\n",
        "from string import punctuation"
      ],
      "execution_count": null,
      "outputs": []
    },
    {
      "cell_type": "code",
      "metadata": {
        "id": "W9-3w7QCH-rq"
      },
      "source": [
        "stopwords=list(STOP_WORDS)\n",
        "stopwords"
      ],
      "execution_count": null,
      "outputs": []
    },
    {
      "cell_type": "code",
      "metadata": {
        "id": "LfeCvtzOH-uH",
        "colab": {
          "base_uri": "https://localhost:8080/"
        },
        "outputId": "2606d9a3-ba70-4963-9a4b-4d13fe576f82"
      },
      "source": [
        "nlp=spacy.load('en_core_web_sm')\n",
        "print(nlp)"
      ],
      "execution_count": null,
      "outputs": [
        {
          "output_type": "stream",
          "text": [
            "<spacy.lang.en.English object at 0x7fee81fbdcd0>\n"
          ],
          "name": "stdout"
        }
      ]
    },
    {
      "cell_type": "code",
      "metadata": {
        "id": "0RFTs3nQH-yb",
        "colab": {
          "base_uri": "https://localhost:8080/"
        },
        "outputId": "a583653d-6f4f-4098-a345-1628273e4fa5"
      },
      "source": [
        "doc=nlp(text)\n",
        "doc"
      ],
      "execution_count": null,
      "outputs": [
        {
          "output_type": "execute_result",
          "data": {
            "text/plain": [
              "\n",
              "There are broadly two types of extractive summarization tasks depending on what the summarization program focuses on. The first is generic summarization, which focuses on obtaining a generic summary or abstract of the collection (whether documents, or sets of images, or videos, news stories etc.). The second is query relevant summarization, sometimes called query-based summarization, which summarizes objects specific to a query. Summarization systems are able to create both query relevant text summaries and generic machine-generated summaries depending on what the user needs.\n",
              "\n",
              "An example of a summarization problem is document summarization, which attempts to automatically produce an abstract from a given document. Sometimes one might be interested in generating a summary from a single source document, while others can use multiple source documents (for example, a cluster of articles on the same topic). This problem is called multi-document summarization. A related application is summarizing news articles. Imagine a system, which automatically pulls together news articles on a given topic (from the web), and concisely represents the latest news as a summary.\n",
              "\n",
              "Image collection summarization is another application example of automatic summarization. It consists in selecting a representative set of images from a larger set of images.[5] A summary in this context is useful to show the most representative images of results in an image collection exploration system. Video summarization is a related domain, where the system automatically creates a trailer of a long video. This also has applications in consumer or personal videos, where one might want to skip the boring or repetitive actions. Similarly, in surveillance videos, one would want to extract important and suspicious activity, while ignoring all the boring and redundant frames captured.\n",
              "\n",
              "At a very high level, summarization algorithms try to find subsets of objects (like set of sentences, or a set of images), which cover information of the entire set. This is also called the core-set. These algorithms model notions like diversity, coverage, information and representativeness of the summary. Query based summarization techniques, additionally model for relevance of the summary with the query. Some techniques and algorithms which naturally model summarization problems are TextRank and PageRank, Submodular set function, Determinantal point process, maximal marginal relevance (MMR) etc."
            ]
          },
          "metadata": {
            "tags": []
          },
          "execution_count": 6
        }
      ]
    },
    {
      "cell_type": "code",
      "metadata": {
        "colab": {
          "base_uri": "https://localhost:8080/"
        },
        "id": "d7ZHXo6yH-1S",
        "outputId": "f6df616d-6c83-4457-96b6-02def98fd76a"
      },
      "source": [
        "tokens= [token.text for token in doc]\n",
        "print(tokens)"
      ],
      "execution_count": null,
      "outputs": [
        {
          "output_type": "stream",
          "text": [
            "['\\n', 'There', 'are', 'broadly', 'two', 'types', 'of', 'extractive', 'summarization', 'tasks', 'depending', 'on', 'what', 'the', 'summarization', 'program', 'focuses', 'on', '.', 'The', 'first', 'is', 'generic', 'summarization', ',', 'which', 'focuses', 'on', 'obtaining', 'a', 'generic', 'summary', 'or', 'abstract', 'of', 'the', 'collection', '(', 'whether', 'documents', ',', 'or', 'sets', 'of', 'images', ',', 'or', 'videos', ',', 'news', 'stories', 'etc', '.', ')', '.', 'The', 'second', 'is', 'query', 'relevant', 'summarization', ',', 'sometimes', 'called', 'query', '-', 'based', 'summarization', ',', 'which', 'summarizes', 'objects', 'specific', 'to', 'a', 'query', '.', 'Summarization', 'systems', 'are', 'able', 'to', 'create', 'both', 'query', 'relevant', 'text', 'summaries', 'and', 'generic', 'machine', '-', 'generated', 'summaries', 'depending', 'on', 'what', 'the', 'user', 'needs', '.', '\\n\\n', 'An', 'example', 'of', 'a', 'summarization', 'problem', 'is', 'document', 'summarization', ',', 'which', 'attempts', 'to', 'automatically', 'produce', 'an', 'abstract', 'from', 'a', 'given', 'document', '.', 'Sometimes', 'one', 'might', 'be', 'interested', 'in', 'generating', 'a', 'summary', 'from', 'a', 'single', 'source', 'document', ',', 'while', 'others', 'can', 'use', 'multiple', 'source', 'documents', '(', 'for', 'example', ',', 'a', 'cluster', 'of', 'articles', 'on', 'the', 'same', 'topic', ')', '.', 'This', 'problem', 'is', 'called', 'multi', '-', 'document', 'summarization', '.', 'A', 'related', 'application', 'is', 'summarizing', 'news', 'articles', '.', 'Imagine', 'a', 'system', ',', 'which', 'automatically', 'pulls', 'together', 'news', 'articles', 'on', 'a', 'given', 'topic', '(', 'from', 'the', 'web', ')', ',', 'and', 'concisely', 'represents', 'the', 'latest', 'news', 'as', 'a', 'summary', '.', '\\n\\n', 'Image', 'collection', 'summarization', 'is', 'another', 'application', 'example', 'of', 'automatic', 'summarization', '.', 'It', 'consists', 'in', 'selecting', 'a', 'representative', 'set', 'of', 'images', 'from', 'a', 'larger', 'set', 'of', 'images.[5', ']', 'A', 'summary', 'in', 'this', 'context', 'is', 'useful', 'to', 'show', 'the', 'most', 'representative', 'images', 'of', 'results', 'in', 'an', 'image', 'collection', 'exploration', 'system', '.', 'Video', 'summarization', 'is', 'a', 'related', 'domain', ',', 'where', 'the', 'system', 'automatically', 'creates', 'a', 'trailer', 'of', 'a', 'long', 'video', '.', 'This', 'also', 'has', 'applications', 'in', 'consumer', 'or', 'personal', 'videos', ',', 'where', 'one', 'might', 'want', 'to', 'skip', 'the', 'boring', 'or', 'repetitive', 'actions', '.', 'Similarly', ',', 'in', 'surveillance', 'videos', ',', 'one', 'would', 'want', 'to', 'extract', 'important', 'and', 'suspicious', 'activity', ',', 'while', 'ignoring', 'all', 'the', 'boring', 'and', 'redundant', 'frames', 'captured', '.', '\\n\\n', 'At', 'a', 'very', 'high', 'level', ',', 'summarization', 'algorithms', 'try', 'to', 'find', 'subsets', 'of', 'objects', '(', 'like', 'set', 'of', 'sentences', ',', 'or', 'a', 'set', 'of', 'images', ')', ',', 'which', 'cover', 'information', 'of', 'the', 'entire', 'set', '.', 'This', 'is', 'also', 'called', 'the', 'core', '-', 'set', '.', 'These', 'algorithms', 'model', 'notions', 'like', 'diversity', ',', 'coverage', ',', 'information', 'and', 'representativeness', 'of', 'the', 'summary', '.', 'Query', 'based', 'summarization', 'techniques', ',', 'additionally', 'model', 'for', 'relevance', 'of', 'the', 'summary', 'with', 'the', 'query', '.', 'Some', 'techniques', 'and', 'algorithms', 'which', 'naturally', 'model', 'summarization', 'problems', 'are', 'TextRank', 'and', 'PageRank', ',', 'Submodular', 'set', 'function', ',', 'Determinantal', 'point', 'process', ',', 'maximal', 'marginal', 'relevance', '(', 'MMR', ')', 'etc', '.', '\\n']\n"
          ],
          "name": "stdout"
        }
      ]
    },
    {
      "cell_type": "code",
      "metadata": {
        "colab": {
          "base_uri": "https://localhost:8080/",
          "height": 35
        },
        "id": "LfHxRbsVJp5a",
        "outputId": "6041a6f1-6dca-43c5-c00b-970758e0d581"
      },
      "source": [
        "punctuation"
      ],
      "execution_count": null,
      "outputs": [
        {
          "output_type": "execute_result",
          "data": {
            "application/vnd.google.colaboratory.intrinsic+json": {
              "type": "string"
            },
            "text/plain": [
              "'!\"#$%&\\'()*+,-./:;<=>?@[\\\\]^_`{|}~'"
            ]
          },
          "metadata": {
            "tags": []
          },
          "execution_count": 48
        }
      ]
    },
    {
      "cell_type": "code",
      "metadata": {
        "colab": {
          "base_uri": "https://localhost:8080/",
          "height": 35
        },
        "id": "mqcveYd4JzIw",
        "outputId": "6071aedf-e644-48ed-9579-270872507537"
      },
      "source": [
        "punctuation=punctuation+'\\n'\n",
        "punctuation"
      ],
      "execution_count": null,
      "outputs": [
        {
          "output_type": "execute_result",
          "data": {
            "application/vnd.google.colaboratory.intrinsic+json": {
              "type": "string"
            },
            "text/plain": [
              "'!\"#$%&\\'()*+,-./:;<=>?@[\\\\]^_`{|}~\\n'"
            ]
          },
          "metadata": {
            "tags": []
          },
          "execution_count": 49
        }
      ]
    },
    {
      "cell_type": "code",
      "metadata": {
        "id": "Hrj0CzeQJ7It"
      },
      "source": [
        "word_frequency={}\n",
        "for word in doc:\n",
        "  if word.text.lower() not in stopwords:\n",
        "    if word.text.lower() not in punctuation:\n",
        "      if word.text not in word_frequency.keys():\n",
        "        word_frequency[word.text]=1\n",
        "      else:\n",
        "        word_frequency[word.text]+=1\n",
        "\n",
        "word_frequency"
      ],
      "execution_count": null,
      "outputs": []
    },
    {
      "cell_type": "code",
      "metadata": {
        "colab": {
          "base_uri": "https://localhost:8080/"
        },
        "id": "lJYPoh1sK-y2",
        "outputId": "4d6553c0-8ade-4532-9274-ca183d7bbbfa"
      },
      "source": [
        "max_freq=max(word_frequency.values())\n",
        "max_freq"
      ],
      "execution_count": null,
      "outputs": [
        {
          "output_type": "execute_result",
          "data": {
            "text/plain": [
              "14"
            ]
          },
          "metadata": {
            "tags": []
          },
          "execution_count": 51
        }
      ]
    },
    {
      "cell_type": "code",
      "metadata": {
        "id": "8BCMqX6ELNvt"
      },
      "source": [
        "for word in word_frequency.keys():\n",
        "  word_frequency[word]/=max_freq"
      ],
      "execution_count": null,
      "outputs": []
    },
    {
      "cell_type": "code",
      "metadata": {
        "colab": {
          "base_uri": "https://localhost:8080/"
        },
        "id": "cf0WrvTRLlBi",
        "outputId": "982e5559-fc3b-429f-94f5-3877885735b5"
      },
      "source": [
        "print(word_frequency)"
      ],
      "execution_count": null,
      "outputs": [
        {
          "output_type": "stream",
          "text": [
            "{'broadly': 0.07142857142857142, 'types': 0.07142857142857142, 'extractive': 0.07142857142857142, 'summarization': 1.0, 'tasks': 0.07142857142857142, 'depending': 0.14285714285714285, 'program': 0.07142857142857142, 'focuses': 0.14285714285714285, 'generic': 0.21428571428571427, 'obtaining': 0.07142857142857142, 'summary': 0.42857142857142855, 'abstract': 0.14285714285714285, 'collection': 0.21428571428571427, 'documents': 0.14285714285714285, 'sets': 0.07142857142857142, 'images': 0.2857142857142857, 'videos': 0.21428571428571427, 'news': 0.2857142857142857, 'stories': 0.07142857142857142, 'etc': 0.14285714285714285, 'second': 0.07142857142857142, 'query': 0.35714285714285715, 'relevant': 0.14285714285714285, 'called': 0.21428571428571427, 'based': 0.14285714285714285, 'summarizes': 0.07142857142857142, 'objects': 0.14285714285714285, 'specific': 0.07142857142857142, 'Summarization': 0.07142857142857142, 'systems': 0.07142857142857142, 'able': 0.07142857142857142, 'create': 0.07142857142857142, 'text': 0.07142857142857142, 'summaries': 0.14285714285714285, 'machine': 0.07142857142857142, 'generated': 0.07142857142857142, 'user': 0.07142857142857142, 'needs': 0.07142857142857142, '\\n\\n': 0.21428571428571427, 'example': 0.21428571428571427, 'problem': 0.14285714285714285, 'document': 0.2857142857142857, 'attempts': 0.07142857142857142, 'automatically': 0.21428571428571427, 'produce': 0.07142857142857142, 'given': 0.14285714285714285, 'interested': 0.07142857142857142, 'generating': 0.07142857142857142, 'single': 0.07142857142857142, 'source': 0.14285714285714285, 'use': 0.07142857142857142, 'multiple': 0.07142857142857142, 'cluster': 0.07142857142857142, 'articles': 0.21428571428571427, 'topic': 0.14285714285714285, 'multi': 0.07142857142857142, 'related': 0.14285714285714285, 'application': 0.14285714285714285, 'summarizing': 0.07142857142857142, 'Imagine': 0.07142857142857142, 'system': 0.21428571428571427, 'pulls': 0.07142857142857142, 'web': 0.07142857142857142, 'concisely': 0.07142857142857142, 'represents': 0.07142857142857142, 'latest': 0.07142857142857142, 'Image': 0.07142857142857142, 'automatic': 0.07142857142857142, 'consists': 0.07142857142857142, 'selecting': 0.07142857142857142, 'representative': 0.14285714285714285, 'set': 0.5, 'larger': 0.07142857142857142, 'images.[5': 0.07142857142857142, 'context': 0.07142857142857142, 'useful': 0.07142857142857142, 'results': 0.07142857142857142, 'image': 0.07142857142857142, 'exploration': 0.07142857142857142, 'Video': 0.07142857142857142, 'domain': 0.07142857142857142, 'creates': 0.07142857142857142, 'trailer': 0.07142857142857142, 'long': 0.07142857142857142, 'video': 0.07142857142857142, 'applications': 0.07142857142857142, 'consumer': 0.07142857142857142, 'personal': 0.07142857142857142, 'want': 0.14285714285714285, 'skip': 0.07142857142857142, 'boring': 0.14285714285714285, 'repetitive': 0.07142857142857142, 'actions': 0.07142857142857142, 'Similarly': 0.07142857142857142, 'surveillance': 0.07142857142857142, 'extract': 0.07142857142857142, 'important': 0.07142857142857142, 'suspicious': 0.07142857142857142, 'activity': 0.07142857142857142, 'ignoring': 0.07142857142857142, 'redundant': 0.07142857142857142, 'frames': 0.07142857142857142, 'captured': 0.07142857142857142, 'high': 0.07142857142857142, 'level': 0.07142857142857142, 'algorithms': 0.21428571428571427, 'try': 0.07142857142857142, 'find': 0.07142857142857142, 'subsets': 0.07142857142857142, 'like': 0.14285714285714285, 'sentences': 0.07142857142857142, 'cover': 0.07142857142857142, 'information': 0.14285714285714285, 'entire': 0.07142857142857142, 'core': 0.07142857142857142, 'model': 0.21428571428571427, 'notions': 0.07142857142857142, 'diversity': 0.07142857142857142, 'coverage': 0.07142857142857142, 'representativeness': 0.07142857142857142, 'Query': 0.07142857142857142, 'techniques': 0.14285714285714285, 'additionally': 0.07142857142857142, 'relevance': 0.14285714285714285, 'naturally': 0.07142857142857142, 'problems': 0.07142857142857142, 'TextRank': 0.07142857142857142, 'PageRank': 0.07142857142857142, 'Submodular': 0.07142857142857142, 'function': 0.07142857142857142, 'Determinantal': 0.07142857142857142, 'point': 0.07142857142857142, 'process': 0.07142857142857142, 'maximal': 0.07142857142857142, 'marginal': 0.07142857142857142, 'MMR': 0.07142857142857142}\n"
          ],
          "name": "stdout"
        }
      ]
    },
    {
      "cell_type": "code",
      "metadata": {
        "colab": {
          "base_uri": "https://localhost:8080/"
        },
        "id": "RUT5f_8JLnu1",
        "outputId": "cd5ce108-0d73-43f8-ce2d-ca6d0cf952af"
      },
      "source": [
        "sent_token=[sent for sent in doc.sents]\n",
        "sent_token"
      ],
      "execution_count": null,
      "outputs": [
        {
          "output_type": "execute_result",
          "data": {
            "text/plain": [
              "[\n",
              " There are broadly two types of extractive summarization tasks depending on what the summarization program focuses on.,\n",
              " The first is generic summarization, which focuses on obtaining a generic summary or abstract of the collection (whether documents, or sets of images, or videos, news stories etc.).,\n",
              " The second is query relevant summarization, sometimes called query-based summarization, which summarizes objects specific to a query.,\n",
              " Summarization systems are able to create both query relevant text summaries and generic machine-generated summaries depending on what the user needs.\n",
              " ,\n",
              " An example of a summarization problem is document summarization, which attempts to automatically produce an abstract from a given document.,\n",
              " Sometimes one might be interested in generating a summary from a single source document, while others can use multiple source documents (for example, a cluster of articles on the same topic).,\n",
              " This problem is called multi-document summarization.,\n",
              " A related application is summarizing news articles.,\n",
              " Imagine a system, which automatically pulls together news articles on a given topic (from the web), and concisely represents the latest news as a summary.\n",
              " ,\n",
              " Image collection summarization is another application example of automatic summarization.,\n",
              " It consists in selecting a representative set of images from a larger set of images.[5] A summary in this context is useful to show the most representative images of results in an image collection exploration system.,\n",
              " Video summarization is a related domain, where the system automatically creates a trailer of a long video.,\n",
              " This also has applications in consumer or personal videos, where one might want to skip the boring or repetitive actions.,\n",
              " Similarly, in surveillance videos, one would want to extract important and suspicious activity, while ignoring all the boring and redundant frames captured.\n",
              " ,\n",
              " At a very high level, summarization algorithms try to find subsets of objects (like set of sentences, or a set of images), which cover information of the entire set.,\n",
              " This is also called the core-set.,\n",
              " These algorithms model notions like diversity, coverage, information and representativeness of the summary.,\n",
              " Query based summarization techniques, additionally model for relevance of the summary with the query.,\n",
              " Some techniques and algorithms which naturally model summarization problems are TextRank and PageRank, Submodular set function, Determinantal point process, maximal marginal relevance (MMR),\n",
              " etc.]"
            ]
          },
          "metadata": {
            "tags": []
          },
          "execution_count": 54
        }
      ]
    },
    {
      "cell_type": "code",
      "metadata": {
        "colab": {
          "base_uri": "https://localhost:8080/"
        },
        "id": "qqYCkDHfMUa3",
        "outputId": "6fd715d0-de1e-41f6-ee91-dc1108b6c7f5"
      },
      "source": [
        "sent_scores={}\n",
        "for sent in sent_token:\n",
        "  for word in sent:\n",
        "    if word.text.lower() in word_frequency.keys():\n",
        "      if sent not in sent_scores.keys():\n",
        "        sent_scores[sent]=word_frequency[word.text.lower()]\n",
        "      else:\n",
        "        sent_scores[sent]+=word_frequency[word.text.lower()]\n",
        "sent_scores"
      ],
      "execution_count": null,
      "outputs": [
        {
          "output_type": "execute_result",
          "data": {
            "text/plain": [
              "{\n",
              " There are broadly two types of extractive summarization tasks depending on what the summarization program focuses on.: 2.642857142857143,\n",
              " The first is generic summarization, which focuses on obtaining a generic summary or abstract of the collection (whether documents, or sets of images, or videos, news stories etc.).: 3.642857142857143,\n",
              " The second is query relevant summarization, sometimes called query-based summarization, which summarizes objects specific to a query.: 3.928571428571429,\n",
              " Summarization systems are able to create both query relevant text summaries and generic machine-generated summaries depending on what the user needs.\n",
              " : 2.9285714285714293,\n",
              " An example of a summarization problem is document summarization, which attempts to automatically produce an abstract from a given document.: 3.5714285714285716,\n",
              " Sometimes one might be interested in generating a summary from a single source document, while others can use multiple source documents (for example, a cluster of articles on the same topic).: 2.1428571428571423,\n",
              " This problem is called multi-document summarization.: 1.7142857142857142,\n",
              " A related application is summarizing news articles.: 0.8571428571428571,\n",
              " Imagine a system, which automatically pulls together news articles on a given topic (from the web), and concisely represents the latest news as a summary.\n",
              " : 2.4999999999999996,\n",
              " Image collection summarization is another application example of automatic summarization.: 2.714285714285714,\n",
              " It consists in selecting a representative set of images from a larger set of images.[5] A summary in this context is useful to show the most representative images of results in an image collection exploration system.: 3.357142857142858,\n",
              " Video summarization is a related domain, where the system automatically creates a trailer of a long video.: 1.9999999999999996,\n",
              " This also has applications in consumer or personal videos, where one might want to skip the boring or repetitive actions.: 0.9285714285714284,\n",
              " Similarly, in surveillance videos, one would want to extract important and suspicious activity, while ignoring all the boring and redundant frames captured.\n",
              " : 1.3571428571428568,\n",
              " At a very high level, summarization algorithms try to find subsets of objects (like set of sentences, or a set of images), which cover information of the entire set.: 4.0,\n",
              " This is also called the core-set.: 0.7857142857142857,\n",
              " These algorithms model notions like diversity, coverage, information and representativeness of the summary.: 1.4285714285714284,\n",
              " Query based summarization techniques, additionally model for relevance of the summary with the query.: 2.8571428571428568,\n",
              " Some techniques and algorithms which naturally model summarization problems are TextRank and PageRank, Submodular set function, Determinantal point process, maximal marginal relevance (MMR): 2.7142857142857153,\n",
              " etc.: 0.14285714285714285}"
            ]
          },
          "metadata": {
            "tags": []
          },
          "execution_count": 55
        }
      ]
    },
    {
      "cell_type": "code",
      "metadata": {
        "colab": {
          "base_uri": "https://localhost:8080/"
        },
        "id": "Nj757-CDQKqw",
        "outputId": "44ca16dc-bf9d-4dd8-9011-63024546261a"
      },
      "source": [
        "from heapq import nlargest\n",
        "sen_len=int(len(sent_token)*0.3)\n",
        "sen_len"
      ],
      "execution_count": null,
      "outputs": [
        {
          "output_type": "execute_result",
          "data": {
            "text/plain": [
              "6"
            ]
          },
          "metadata": {
            "tags": []
          },
          "execution_count": 56
        }
      ]
    },
    {
      "cell_type": "code",
      "metadata": {
        "colab": {
          "base_uri": "https://localhost:8080/"
        },
        "id": "NStnR3L4RCfw",
        "outputId": "f81f6be7-fed3-4dee-cf51-8568dfb396be"
      },
      "source": [
        "summary= nlargest(sen_len,sent_scores,key=sent_scores.get)\n",
        "summary"
      ],
      "execution_count": null,
      "outputs": [
        {
          "output_type": "execute_result",
          "data": {
            "text/plain": [
              "[At a very high level, summarization algorithms try to find subsets of objects (like set of sentences, or a set of images), which cover information of the entire set.,\n",
              " The second is query relevant summarization, sometimes called query-based summarization, which summarizes objects specific to a query.,\n",
              " The first is generic summarization, which focuses on obtaining a generic summary or abstract of the collection (whether documents, or sets of images, or videos, news stories etc.).,\n",
              " An example of a summarization problem is document summarization, which attempts to automatically produce an abstract from a given document.,\n",
              " It consists in selecting a representative set of images from a larger set of images.[5] A summary in this context is useful to show the most representative images of results in an image collection exploration system.,\n",
              " Summarization systems are able to create both query relevant text summaries and generic machine-generated summaries depending on what the user needs.\n",
              " ]"
            ]
          },
          "metadata": {
            "tags": []
          },
          "execution_count": 57
        }
      ]
    },
    {
      "cell_type": "code",
      "metadata": {
        "colab": {
          "base_uri": "https://localhost:8080/"
        },
        "id": "-TBi6MloRfAz",
        "outputId": "49355ce9-e5d2-43a0-afb0-a80c579b4710"
      },
      "source": [
        "final_summary=[word.text for word in summary]\n",
        "final=''.join(final_summary)\n",
        "print(final)"
      ],
      "execution_count": null,
      "outputs": [
        {
          "output_type": "stream",
          "text": [
            "At a very high level, summarization algorithms try to find subsets of objects (like set of sentences, or a set of images), which cover information of the entire set.The second is query relevant summarization, sometimes called query-based summarization, which summarizes objects specific to a query.The first is generic summarization, which focuses on obtaining a generic summary or abstract of the collection (whether documents, or sets of images, or videos, news stories etc.).An example of a summarization problem is document summarization, which attempts to automatically produce an abstract from a given document.It consists in selecting a representative set of images from a larger set of images.[5] A summary in this context is useful to show the most representative images of results in an image collection exploration system.Summarization systems are able to create both query relevant text summaries and generic machine-generated summaries depending on what the user needs.\n",
            "\n",
            "\n"
          ],
          "name": "stdout"
        }
      ]
    },
    {
      "cell_type": "code",
      "metadata": {
        "colab": {
          "base_uri": "https://localhost:8080/"
        },
        "id": "jOtAojk9SYz8",
        "outputId": "57e717b6-2a1e-410d-f949-f987e174bf30"
      },
      "source": [
        "len(text)"
      ],
      "execution_count": null,
      "outputs": [
        {
          "output_type": "execute_result",
          "data": {
            "text/plain": [
              "2477"
            ]
          },
          "metadata": {
            "tags": []
          },
          "execution_count": 59
        }
      ]
    },
    {
      "cell_type": "code",
      "metadata": {
        "colab": {
          "base_uri": "https://localhost:8080/"
        },
        "id": "e3Wjbx1VSdYT",
        "outputId": "31ecbf68-c827-42c7-d2b4-d6ddd48acd59"
      },
      "source": [
        "len(final)"
      ],
      "execution_count": null,
      "outputs": [
        {
          "output_type": "execute_result",
          "data": {
            "text/plain": [
              "984"
            ]
          },
          "metadata": {
            "tags": []
          },
          "execution_count": 60
        }
      ]
    },
    {
      "cell_type": "code",
      "metadata": {
        "id": "QWrIzfDISe14"
      },
      "source": [
        ""
      ],
      "execution_count": null,
      "outputs": []
    }
  ]
}